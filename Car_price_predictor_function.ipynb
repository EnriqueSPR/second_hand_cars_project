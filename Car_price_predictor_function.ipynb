{
 "cells": [
  {
   "cell_type": "code",
   "execution_count": 1,
   "metadata": {},
   "outputs": [],
   "source": [
    "import pandas as pd\n",
    "import numpy as np\n",
    "import pickle\n",
    "\n",
    "X = pd.read_csv(\"Data\\\\X.csv\")\n",
    "X = X.drop('Unnamed: 0', axis=1)\n",
    "\n",
    "with open(\"Model\\\\scaler_train.pickle\", 'rb') as pickle_scaler:\n",
    "    scaler_train = pickle.load(pickle_scaler)\n",
    "\n",
    "with open(\"Model\\\\price_car_predictor_brands.pickle\", 'rb') as pickle_model:\n",
    "    model_brand = pickle.load(pickle_model)\n",
    "\n",
    "def pred_car_price(years_old, km, doors=5, location=\"Madrid\", brand=\"Audi\",\n",
    "        horse_power=125, gear=0, seller=0, fuel=1, description_len=548):\n",
    "    \n",
    "# fuel 1 = diesel, fuel 0 = gasoline\n",
    "# seller 1 = profesional, seller 0 = particular\n",
    "# gear 1 = automatic, gear 0 = manual\n",
    "\n",
    "    location = location.lower()\n",
    "    brand = brand.capitalize()\n",
    "\n",
    "    x= np.zeros(len(X.columns))\n",
    "    x[0] = horse_power\n",
    "    x[1] = years_old\n",
    "    x[2] = km\n",
    "    x[3] = doors\n",
    "    x[4] = description_len\n",
    "    x[5] = gear\n",
    "    x[6] = seller\n",
    "    x[7] = fuel\n",
    "    \n",
    "    try: \n",
    "        loc_index = np.where(X.columns==location)[0][0] \n",
    "    # we use np.where method to loc the index for the location\n",
    "        \n",
    "        if loc_index >= 0:\n",
    "            x[loc_index] = 1\n",
    " \n",
    "    except IndexError:\n",
    "        pass\n",
    "    \n",
    "    try: \n",
    "        loc_index2 = np.where(X.columns==brand)[0][0] \n",
    "    # X is an np array so we use where method to locate the index \n",
    "\n",
    "        if loc_index2 >= 0:\n",
    "            x[loc_index2] = 1\n",
    "            \n",
    "    except IndexError:\n",
    "        pass\n",
    "    \n",
    "    x1 = scaler_train.transform(x[:5].reshape(-1, 1).T) \n",
    "    # Rescaling non dummy variables\n",
    "    x2 = x[5:].reshape(-1, 1).T \n",
    "    # Dummy variables not rescaled\n",
    "    x = np.concatenate((x1, x2), axis=1)\n",
    "        \n",
    "    return \" \".join((str(round(model_brand.predict(x)[0],0)), \"Euros\"))  "
   ]
  },
  {
   "cell_type": "code",
   "execution_count": 7,
   "metadata": {},
   "outputs": [
    {
     "data": {
      "text/plain": [
       "'2336.0 Euros'"
      ]
     },
     "execution_count": 7,
     "metadata": {},
     "output_type": "execute_result"
    }
   ],
   "source": [
    "# Model evaluation: score = 0.93\n",
    "                #  mean_absolute_error = 2007\n",
    "pred_car_price(17, 158000, 5, \"zaragoza\",\"Ford\", seller=0, fuel=1, gear=0, horse_power= 96, description_len=548)"
   ]
  },
  {
   "cell_type": "code",
   "execution_count": 11,
   "metadata": {},
   "outputs": [],
   "source": [
    "# Use this algo to remove possible outliers in our dataset"
   ]
  },
  {
   "cell_type": "code",
   "execution_count": 1,
   "metadata": {},
   "outputs": [
    {
     "data": {
      "text/plain": [
       "431"
      ]
     },
     "execution_count": 1,
     "metadata": {},
     "output_type": "execute_result"
    }
   ],
   "source": [
    "len(\"Vendo precioso VOLVO C70, es el 2.0cc de 170cv,del 2001 gasolina, el coche solo tiene 169000 kms, anda muy bien, elevalunas, aire, ordenador de abordo, asientos en piel y tela,cierre con mando, retrovisores electricos, ITV recien pasada este mes de septiembre, ruedas puestas nuevas para la ITV, libro de revisiones todo sellado en la casa Volvo, muy cuidado y limpio,de chapa muy nuevo como se ve en las fotos. Se escuchan ofertas\")"
   ]
  }
 ],
 "metadata": {
  "kernelspec": {
   "display_name": "Python 3",
   "language": "python",
   "name": "python3"
  },
  "language_info": {
   "codemirror_mode": {
    "name": "ipython",
    "version": 3
   },
   "file_extension": ".py",
   "mimetype": "text/x-python",
   "name": "python",
   "nbconvert_exporter": "python",
   "pygments_lexer": "ipython3",
   "version": "3.7.4"
  },
  "widgets": {
   "application/vnd.jupyter.widget-state+json": {
    "state": {},
    "version_major": 2,
    "version_minor": 0
   }
  }
 },
 "nbformat": 4,
 "nbformat_minor": 4
}
